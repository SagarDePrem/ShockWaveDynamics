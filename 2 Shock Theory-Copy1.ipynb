{
 "cells": [
  {
   "cell_type": "markdown",
   "metadata": {},
   "source": [
    "# 2 Shock Theory using conservation equations"
   ]
  },
  {
   "cell_type": "code",
   "execution_count": 1,
   "metadata": {
    "collapsed": true
   },
   "outputs": [],
   "source": [
    "import numpy as np \n",
    "from scipy.optimize import fsolve,fmin,root,approx_fprime\n",
    "\n",
    "class state(object):\n",
    "  def __init__(self,p=100000,M=1.5,T=300,R=287,gamma=1.4,theta=10*np.pi/180):\n",
    "    self.p=p\n",
    "    self.M=M\n",
    "    self.T=T\n",
    "    self.gamma =gamma\n",
    "    self.theta=theta\n",
    "    self.R=R\n",
    "    self.phi=0.1\n",
    "    self.rho=p/(R*self.T)\n",
    "    self.u=self.M*np.sqrt(self.gamma*self.R*self.T)\n",
    "    \n",
    "  def recalc(self):\n",
    "    self.M = self.u/np.sqrt(self.gamma*self.R*self.T)\n",
    "    self.p = self.rho*self.R*self.T\n",
    "    \n",
    "    \n",
    "    \n",
    "def TwoST(state0,theta):\n",
    "    state1 = nextState(state0,theta)\n",
    "    state2 = nextState(state1,theta)\n",
    "    return state1, state2\n",
    "\n",
    "def ThreeST(state0,theta1):\n",
    "    state1 = nextState(state0,theta1)\n",
    "    \n",
    "    \n",
    "\n",
    "def getAngles(s0,s1,theta1):\n",
    "    x = fsolve(lambda x: angFunc(x,s0.u,s1.u,s0.T,s1.T,s0.rho,s1.rho,theta1),np.array([np.pi/16,np.pi/16,np.pi/8]))\n",
    "    #x = root(lambda x: angFunc(x,s0.u,s1.u,s0.T,s1.T,s0.rho,s1.rho,theta1),np.array([np.pi/4,np.pi/4,np.pi/4]),method='hybr')\n",
    "    return x\n",
    "    \n",
    "    \n",
    "def angFunc(alpha,u0,u1,T0,T1,rho0,rho1, theta1,R=287):\n",
    "    \"\"\"\n",
    "    alpha[0] - phi2\n",
    "    alpha[1] - phi3\n",
    "    alpha[2] - theta2\n",
    "    \"\"\"\n",
    "    f1 = phiFun(alpha[0],T1,u1,alpha[2])\n",
    "    f2 = phiFun(alpha[1],T0,u0,theta1 - alpha[2])\n",
    "    f3 = rho1*R*T1 - rho0*R*T0 +\\\n",
    "    (np.tan(alpha[1])/np.tan(alpha[1]-theta1+alpha[2]))*(np.cos(alpha[1])/np.cos(alpha[1]-theta1+alpha[2]))**2\\\n",
    "    *rho0*u0**2*(np.sin(alpha[1]-theta1+alpha[2]))**2 -\\\n",
    "    (np.tan(alpha[0])/np.tan(alpha[0]-alpha[2]))*(np.cos(alpha[0])/np.cos(alpha[0]-alpha[2]))**2\\\n",
    "    *rho1*u1**2*(np.sin(alpha[0]-alpha[2]))**2 +\\\n",
    "    rho1*u1**2*(np.sin(alpha[0]))**2-rho0*u0**2*(np.sin(alpha[1]))**2\n",
    "    return np.array([f1,f2,f3])\n",
    "    \n",
    "    \n",
    "    \n",
    "def nextState(s0,theta,weak='True'):\n",
    "    s1 = state(M=1.2,p=0,T=350, theta=theta)\n",
    "    p = phi(s0.T,s0.u,s1.theta)\n",
    "    if weak =='True':\n",
    "        s1.phi = p[0]\n",
    "    else:\n",
    "        s1.phi = p[1]\n",
    "    s1.rho = rho1(s0.rho,s1.phi,s1.theta)\n",
    "    s1.u   = u1(s0.u,s1.phi,s1.theta)\n",
    "    s1.T   = T1(s0.T,s0.u,s1.phi,s1.theta)\n",
    "    s1.recalc()\n",
    "    return s1\n",
    "    \n",
    "\n",
    "def rho1(rho0,phi,theta):\n",
    "    return rho0*np.tan(phi)/np.tan(phi-theta)\n",
    "def u1(u0,phi,theta):\n",
    "    return u0*np.cos(phi)/np.cos(phi-theta)\n",
    "def T1(T0,u0,phi,theta,R=287,gamma=1.4):\n",
    "    return T0+0.5*u0**2*((np.sin(phi))**2-(np.cos(phi)*np.tan(phi-theta))**2)/(gamma*R/(gamma-1))\n",
    "\n",
    "def phi(T,u,theta,R=287,gamma=1.4):\n",
    "    out = fsolve(lambda x: phiFun(x,T,u,theta),0.01)\n",
    "    out = np.append(out, fsolve(lambda x: phiFun(x,T,u,theta),np.pi/2))\n",
    "    return out\n",
    "\n",
    "def theta(T,u,phi,R=287,gamma=1.4):\n",
    "    out = fsolve(lambda x: phiFun(phi,T,u,x),0.01)\n",
    "    out = np.append(out, fsolve(lambda x: phiFun(phi,T,u,x),np.pi/2))\n",
    "    return out\n",
    "\n",
    "def phiFun(phi,T,u,theta,R=287,gamma=1.4):\n",
    "    f1 = T+0.5*u**2*((np.sin(phi))**2-(np.cos(phi)*np.tan(phi-theta))**2)/(gamma*R/(gamma-1))\n",
    "    f2 = (T+u**2*np.sin(phi)*(np.sin(phi)-np.tan(phi-theta)*np.cos(phi))/R)*np.tan(phi-theta)/np.tan(phi)\n",
    "    return f1-f2"
   ]
  },
  {
   "cell_type": "markdown",
   "metadata": {},
   "source": [
    "## 2ST using conservation equations"
   ]
  },
  {
   "cell_type": "code",
   "execution_count": 2,
   "metadata": {
    "collapsed": true
   },
   "outputs": [],
   "source": [
    "s0  = state(M=2,p=100000, T=300, theta=10*np.pi/180)"
   ]
  },
  {
   "cell_type": "code",
   "execution_count": 3,
   "metadata": {},
   "outputs": [],
   "source": [
    "s1,s2 = TwoST(s0,10*np.pi/180)"
   ]
  },
  {
   "cell_type": "code",
   "execution_count": 4,
   "metadata": {},
   "outputs": [
    {
     "data": {
      "text/plain": [
       "1.1614401858304297"
      ]
     },
     "execution_count": 4,
     "metadata": {},
     "output_type": "execute_result"
    }
   ],
   "source": [
    "s0.rho"
   ]
  },
  {
   "cell_type": "code",
   "execution_count": 5,
   "metadata": {},
   "outputs": [
    {
     "data": {
      "text/plain": [
       "694.3774189876857"
      ]
     },
     "execution_count": 5,
     "metadata": {},
     "output_type": "execute_result"
    }
   ],
   "source": [
    "s0.u"
   ]
  },
  {
   "cell_type": "code",
   "execution_count": 6,
   "metadata": {},
   "outputs": [
    {
     "data": {
      "text/plain": [
       "1.6938741148814198"
      ]
     },
     "execution_count": 6,
     "metadata": {},
     "output_type": "execute_result"
    }
   ],
   "source": [
    "s1.rho"
   ]
  },
  {
   "cell_type": "code",
   "execution_count": 7,
   "metadata": {},
   "outputs": [
    {
     "data": {
      "text/plain": [
       "616.1248420205723"
      ]
     },
     "execution_count": 7,
     "metadata": {},
     "output_type": "execute_result"
    }
   ],
   "source": [
    "s1.u"
   ]
  },
  {
   "cell_type": "code",
   "execution_count": 8,
   "metadata": {},
   "outputs": [
    {
     "data": {
      "text/plain": [
       "351.045385288763"
      ]
     },
     "execution_count": 8,
     "metadata": {},
     "output_type": "execute_result"
    }
   ],
   "source": [
    "s1.T"
   ]
  },
  {
   "cell_type": "code",
   "execution_count": 9,
   "metadata": {},
   "outputs": [
    {
     "data": {
      "text/plain": [
       "39.31393184481875"
      ]
     },
     "execution_count": 9,
     "metadata": {},
     "output_type": "execute_result"
    }
   ],
   "source": [
    "s1.phi*180/np.pi "
   ]
  },
  {
   "cell_type": "code",
   "execution_count": 10,
   "metadata": {},
   "outputs": [
    {
     "data": {
      "text/plain": [
       "2.4059689908267488"
      ]
     },
     "execution_count": 10,
     "metadata": {},
     "output_type": "execute_result"
    }
   ],
   "source": [
    "s2.rho"
   ]
  },
  {
   "cell_type": "code",
   "execution_count": 11,
   "metadata": {},
   "outputs": [
    {
     "data": {
      "text/plain": [
       "518.9326955467594"
      ]
     },
     "execution_count": 11,
     "metadata": {},
     "output_type": "execute_result"
    }
   ],
   "source": [
    "s2.u"
   ]
  },
  {
   "cell_type": "code",
   "execution_count": 12,
   "metadata": {},
   "outputs": [
    {
     "data": {
      "text/plain": [
       "405.9576194587229"
      ]
     },
     "execution_count": 12,
     "metadata": {},
     "output_type": "execute_result"
    }
   ],
   "source": [
    "s2.T"
   ]
  },
  {
   "cell_type": "code",
   "execution_count": 13,
   "metadata": {},
   "outputs": [
    {
     "data": {
      "text/plain": [
       "49.38404168280174"
      ]
     },
     "execution_count": 13,
     "metadata": {},
     "output_type": "execute_result"
    }
   ],
   "source": [
    "s2.phi*180/np.pi"
   ]
  }
 ],
 "metadata": {
  "kernelspec": {
   "display_name": "Python 3",
   "language": "python",
   "name": "python3"
  },
  "language_info": {
   "codemirror_mode": {
    "name": "ipython",
    "version": 3
   },
   "file_extension": ".py",
   "mimetype": "text/x-python",
   "name": "python",
   "nbconvert_exporter": "python",
   "pygments_lexer": "ipython3",
   "version": "3.6.3"
  }
 },
 "nbformat": 4,
 "nbformat_minor": 2
}
