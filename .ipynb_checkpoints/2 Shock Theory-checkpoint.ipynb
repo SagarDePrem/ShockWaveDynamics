{
 "cells": [
  {
   "cell_type": "markdown",
   "metadata": {},
   "source": [
    "# 2 Shock Theory"
   ]
  },
  {
   "cell_type": "code",
   "execution_count": 1,
   "metadata": {
    "collapsed": true
   },
   "outputs": [],
   "source": [
    "import numpy as np \n",
    "from scipy.optimize import fsolve,fmin,root,approx_fprime\n",
    "\n",
    "class state(object):\n",
    "  def __init__(self,p=100000,M=1.5,T=300,R=287,gamma=1.4,theta=10):\n",
    "    self.p=p\n",
    "    self.M=M\n",
    "    self.T=T\n",
    "    self.theta=theta\n",
    "    self.phi=0.1\n",
    "    self.rho=p/(R*self.T)\n",
    "    self.u=self.M*np.sqrt(gamma*R*self.T)\n",
    "\n",
    "class TwoST(object):\n",
    "  def __init__(self, M=1.5,p=100000,T=288, theta=5): \n",
    "    self.s0 = state(M=M,p=p, T=T, theta=theta )\n",
    "    self.s  = np.array([self.s0.rho,self.s0.u,self.s0.T,self.s0.theta])\n",
    "    self.s1 = state(M=1.2,p=0,T=350, theta=0)\n",
    "    self.s2 = state(M=1.1,p=0,T=100, theta=0)\n",
    "    self.x0 = np.array([self.s1.rho,self.s1.u,self.s1.T,\n",
    "                     self.s2.rho,self.s2.u,self.s2.T,\n",
    "                     self.s1.phi, self.s2.phi])\n",
    "    \n",
    "  def solve(self):\n",
    "    self.x=root(TwoSTEq,self.x0,args=self.s,jac=None,method='hybr')\n",
    "    return self\n",
    "\n",
    "    \n",
    "def TwoSTEq(x,s0,R=287):\n",
    "    #s0=np.array([s.rho,s.u,s.T])\n",
    "    s1=x[:3]\n",
    "    s2=x[3:6]\n",
    "    alpha1=np.append(x[6],s0[3])\n",
    "    alpha2=np.append(x[7],s0[3])\n",
    "    s0=s0[:-1]\n",
    "    F=np.append(conEq(s0,s1,alpha1),conEq(s1,s2,alpha2))\n",
    "    return F\n",
    "\n",
    "def conEq(s0,s1,alpha,gamma=1.4,R=287):\n",
    "    Cp=gamma*R/(gamma-1)\n",
    "    out=[s0[0]*s0[1]*np.sin(alpha[0])-s1[0]*s1[1]*np.sin(alpha[0]-alpha[1])]\n",
    "    out.append(s0[0]/(R*s0[2])+s0[0]*(s0[1]**2)*(np.sin(alpha[0])**2)-(s1[0]/(R*s1[2])+s1[0]*(s1[1]**2)*(np.sin(alpha[0]-alpha[1])**2)))\n",
    "    out.append(s0[0]*np.tan(alpha[0])-s1[0]*np.tan(alpha[0]-alpha[1]))\n",
    "    out.append(Cp*(s0[2]-s1[2])+0.5*(s0[1]**2)*(np.sin(alpha[0])**2)-0.5*(s1[1]**2)*(np.sin(alpha[0]-alpha[1])**2))\n",
    "    return out"
   ]
  },
  {
   "cell_type": "code",
   "execution_count": 2,
   "metadata": {
    "collapsed": true
   },
   "outputs": [],
   "source": [
    "soln=TwoST(M=1.5,p=100000,T=300, theta=5*np.pi/180)\n",
    "#s0=np.array([soln.s0.rho,soln.s0.u,soln.s0.p,soln.s0.T])\n",
    "#soln.solve()\n",
    "#soln.x"
   ]
  },
  {
   "cell_type": "code",
   "execution_count": 3,
   "metadata": {},
   "outputs": [
    {
     "data": {
      "text/plain": [
       "<__main__.TwoST at 0x13cee7c2f60>"
      ]
     },
     "execution_count": 3,
     "metadata": {},
     "output_type": "execute_result"
    }
   ],
   "source": [
    "soln.solve()"
   ]
  },
  {
   "cell_type": "code",
   "execution_count": 4,
   "metadata": {},
   "outputs": [
    {
     "data": {
      "text/plain": [
       "    fjac: array([[-2.09129681e-08, -7.70514678e-07, -4.98704665e-11,\n",
       "         6.40228406e-07,  6.20827721e-06, -9.96266771e-01,\n",
       "         3.85359943e-10,  8.63279894e-02],\n",
       "       [ 1.53433832e-09, -9.90339847e-10,  3.67487098e-12,\n",
       "        -5.46979374e-06, -4.84399516e-07,  8.63279894e-02,\n",
       "        -2.83639105e-11,  9.96266771e-01],\n",
       "       [ 2.40810407e-03,  2.86764305e-02,  5.36567045e-06,\n",
       "         9.98639240e-01, -4.34917292e-02,  8.15643502e-07,\n",
       "        -4.22455365e-05,  5.39102105e-06],\n",
       "       [ 1.70507724e-04,  3.30080402e-04,  3.78328645e-07,\n",
       "        -4.35193612e-02, -9.99042231e-01, -6.26952026e-06,\n",
       "        -4.53300215e-03, -1.81419770e-07],\n",
       "       [ 1.41397287e-01,  9.89508074e-01,  3.14847731e-04,\n",
       "        -2.86866309e-02,  1.56700258e-03, -7.84547000e-07,\n",
       "         7.42306645e-03, -8.79878052e-08],\n",
       "       [-9.67686333e-01,  1.36644535e-01, -2.12160397e-03,\n",
       "        -1.62539307e-03, -1.01068793e-03, -9.26077924e-08,\n",
       "         2.11903910e-01,  2.41505511e-10],\n",
       "       [ 2.08756177e-01, -3.71429226e-02,  6.61603487e-04,\n",
       "         4.11648881e-04, -4.42870615e-03, -2.61061042e-09,\n",
       "         9.77251780e-01,  2.37851224e-12],\n",
       "       [-2.23569822e-03,  2.78111755e-06,  9.99997481e-01,\n",
       "        -3.07725819e-08,  9.03731549e-07,  2.56906203e-13,\n",
       "        -1.99312703e-04, -1.76353106e-16]])\n",
       "     fun: array([ 6.03850786e+01,  3.13951400e+03,  1.16532720e-01, -4.88898559e+04,\n",
       "        0.00000000e+00,  0.00000000e+00,  0.00000000e+00,  2.52130224e+05])\n",
       " message: 'The iteration is not making good progress, as measured by the \\n  improvement from the last ten iterations.'\n",
       "    nfev: 27\n",
       "     qtf: array([ 2.17658616e+04,  2.51189232e+05, -4.87317938e+04,  2.12865615e+03,\n",
       "        4.51757585e+03,  4.50028662e+02, -1.24130344e+02, -8.23456130e-03])\n",
       "       r: array([ 2.52842498e+08,  9.86975950e+07,  1.89465905e+09,  3.42210435e+04,\n",
       "       -5.10417383e+06,  6.31846323e+10,  3.92940220e+10, -2.57009878e+12,\n",
       "        1.33862308e+09, -5.91739425e+09,  6.00500458e+01, -6.04832654e+07,\n",
       "        7.43520858e+11, -4.23825408e+09, -2.83005338e+13,  2.18709049e+04,\n",
       "        1.22963225e-01, -3.86418661e+02,  4.07837117e+06, -6.11837237e+03,\n",
       "       -1.53423233e+08,  2.81107499e+00,  1.41343138e+01, -1.60788317e+05,\n",
       "        7.20564535e+03,  4.50945378e+06,  6.46595996e+00, -6.93984171e+04,\n",
       "        6.70705208e+04,  2.42510023e+06, -2.10950332e+02,  7.76721325e+03,\n",
       "       -1.60584398e+04, -2.17659813e+03, -4.61595758e+02,  3.44148510e-02])\n",
       "  status: 5\n",
       " success: False\n",
       "       x: array([0.00000000e+00, 4.50008000e+02, 3.50000000e+02, 0.00000000e+00,\n",
       "       2.20494444e+02, 1.00000000e+02, 1.00000000e-01, 1.00000000e-01])"
      ]
     },
     "execution_count": 4,
     "metadata": {},
     "output_type": "execute_result"
    }
   ],
   "source": [
    "soln.x"
   ]
  },
  {
   "cell_type": "code",
   "execution_count": 5,
   "metadata": {
    "collapsed": true
   },
   "outputs": [],
   "source": [
    "s0=state(M=1.5,p=100000,T=250, theta=5*np.pi/180)\n",
    "rho=s0.rho\n",
    "u=s0.u\n",
    "T=s0.T\n",
    "theta=s0.theta\n",
    "\n",
    "#x0=np.zeros(8)\n",
    "x0=np.array([1.3888,381.30,1.1957,56.6786767*np.pi/180,])"
   ]
  },
  {
   "cell_type": "code",
   "execution_count": 6,
   "metadata": {},
   "outputs": [
    {
     "ename": "IndexError",
     "evalue": "index 6 is out of bounds for axis 0 with size 4",
     "output_type": "error",
     "traceback": [
      "\u001b[1;31m---------------------------------------------------------------------------\u001b[0m",
      "\u001b[1;31mIndexError\u001b[0m                                Traceback (most recent call last)",
      "\u001b[1;32m<ipython-input-6-2075de2b2e87>\u001b[0m in \u001b[0;36m<module>\u001b[1;34m()\u001b[0m\n\u001b[1;32m----> 1\u001b[1;33m \u001b[0mfsolve\u001b[0m\u001b[1;33m(\u001b[0m\u001b[0mTwoSTEq\u001b[0m\u001b[1;33m,\u001b[0m\u001b[0mx0\u001b[0m\u001b[1;33m,\u001b[0m\u001b[0margs\u001b[0m\u001b[1;33m=\u001b[0m\u001b[0mnp\u001b[0m\u001b[1;33m.\u001b[0m\u001b[0marray\u001b[0m\u001b[1;33m(\u001b[0m\u001b[1;33m[\u001b[0m\u001b[0mrho\u001b[0m\u001b[1;33m,\u001b[0m\u001b[0mu\u001b[0m\u001b[1;33m,\u001b[0m\u001b[0mT\u001b[0m\u001b[1;33m,\u001b[0m\u001b[0mtheta\u001b[0m\u001b[1;33m]\u001b[0m\u001b[1;33m)\u001b[0m\u001b[1;33m,\u001b[0m\u001b[0mxtol\u001b[0m\u001b[1;33m=\u001b[0m\u001b[1;36m1e-9\u001b[0m\u001b[1;33m)\u001b[0m\u001b[1;33m\u001b[0m\u001b[0m\n\u001b[0m",
      "\u001b[1;32m~\\Anaconda3\\lib\\site-packages\\scipy\\optimize\\minpack.py\u001b[0m in \u001b[0;36mfsolve\u001b[1;34m(func, x0, args, fprime, full_output, col_deriv, xtol, maxfev, band, epsfcn, factor, diag)\u001b[0m\n\u001b[0;32m    144\u001b[0m                'diag': diag}\n\u001b[0;32m    145\u001b[0m \u001b[1;33m\u001b[0m\u001b[0m\n\u001b[1;32m--> 146\u001b[1;33m     \u001b[0mres\u001b[0m \u001b[1;33m=\u001b[0m \u001b[0m_root_hybr\u001b[0m\u001b[1;33m(\u001b[0m\u001b[0mfunc\u001b[0m\u001b[1;33m,\u001b[0m \u001b[0mx0\u001b[0m\u001b[1;33m,\u001b[0m \u001b[0margs\u001b[0m\u001b[1;33m,\u001b[0m \u001b[0mjac\u001b[0m\u001b[1;33m=\u001b[0m\u001b[0mfprime\u001b[0m\u001b[1;33m,\u001b[0m \u001b[1;33m**\u001b[0m\u001b[0moptions\u001b[0m\u001b[1;33m)\u001b[0m\u001b[1;33m\u001b[0m\u001b[0m\n\u001b[0m\u001b[0;32m    147\u001b[0m     \u001b[1;32mif\u001b[0m \u001b[0mfull_output\u001b[0m\u001b[1;33m:\u001b[0m\u001b[1;33m\u001b[0m\u001b[0m\n\u001b[0;32m    148\u001b[0m         \u001b[0mx\u001b[0m \u001b[1;33m=\u001b[0m \u001b[0mres\u001b[0m\u001b[1;33m[\u001b[0m\u001b[1;34m'x'\u001b[0m\u001b[1;33m]\u001b[0m\u001b[1;33m\u001b[0m\u001b[0m\n",
      "\u001b[1;32m~\\Anaconda3\\lib\\site-packages\\scipy\\optimize\\minpack.py\u001b[0m in \u001b[0;36m_root_hybr\u001b[1;34m(func, x0, args, jac, col_deriv, xtol, maxfev, band, eps, factor, diag, **unknown_options)\u001b[0m\n\u001b[0;32m    210\u001b[0m     \u001b[1;32mif\u001b[0m \u001b[1;32mnot\u001b[0m \u001b[0misinstance\u001b[0m\u001b[1;33m(\u001b[0m\u001b[0margs\u001b[0m\u001b[1;33m,\u001b[0m \u001b[0mtuple\u001b[0m\u001b[1;33m)\u001b[0m\u001b[1;33m:\u001b[0m\u001b[1;33m\u001b[0m\u001b[0m\n\u001b[0;32m    211\u001b[0m         \u001b[0margs\u001b[0m \u001b[1;33m=\u001b[0m \u001b[1;33m(\u001b[0m\u001b[0margs\u001b[0m\u001b[1;33m,\u001b[0m\u001b[1;33m)\u001b[0m\u001b[1;33m\u001b[0m\u001b[0m\n\u001b[1;32m--> 212\u001b[1;33m     \u001b[0mshape\u001b[0m\u001b[1;33m,\u001b[0m \u001b[0mdtype\u001b[0m \u001b[1;33m=\u001b[0m \u001b[0m_check_func\u001b[0m\u001b[1;33m(\u001b[0m\u001b[1;34m'fsolve'\u001b[0m\u001b[1;33m,\u001b[0m \u001b[1;34m'func'\u001b[0m\u001b[1;33m,\u001b[0m \u001b[0mfunc\u001b[0m\u001b[1;33m,\u001b[0m \u001b[0mx0\u001b[0m\u001b[1;33m,\u001b[0m \u001b[0margs\u001b[0m\u001b[1;33m,\u001b[0m \u001b[0mn\u001b[0m\u001b[1;33m,\u001b[0m \u001b[1;33m(\u001b[0m\u001b[0mn\u001b[0m\u001b[1;33m,\u001b[0m\u001b[1;33m)\u001b[0m\u001b[1;33m)\u001b[0m\u001b[1;33m\u001b[0m\u001b[0m\n\u001b[0m\u001b[0;32m    213\u001b[0m     \u001b[1;32mif\u001b[0m \u001b[0mepsfcn\u001b[0m \u001b[1;32mis\u001b[0m \u001b[1;32mNone\u001b[0m\u001b[1;33m:\u001b[0m\u001b[1;33m\u001b[0m\u001b[0m\n\u001b[0;32m    214\u001b[0m         \u001b[0mepsfcn\u001b[0m \u001b[1;33m=\u001b[0m \u001b[0mfinfo\u001b[0m\u001b[1;33m(\u001b[0m\u001b[0mdtype\u001b[0m\u001b[1;33m)\u001b[0m\u001b[1;33m.\u001b[0m\u001b[0meps\u001b[0m\u001b[1;33m\u001b[0m\u001b[0m\n",
      "\u001b[1;32m~\\Anaconda3\\lib\\site-packages\\scipy\\optimize\\minpack.py\u001b[0m in \u001b[0;36m_check_func\u001b[1;34m(checker, argname, thefunc, x0, args, numinputs, output_shape)\u001b[0m\n\u001b[0;32m     24\u001b[0m def _check_func(checker, argname, thefunc, x0, args, numinputs,\n\u001b[0;32m     25\u001b[0m                 output_shape=None):\n\u001b[1;32m---> 26\u001b[1;33m     \u001b[0mres\u001b[0m \u001b[1;33m=\u001b[0m \u001b[0matleast_1d\u001b[0m\u001b[1;33m(\u001b[0m\u001b[0mthefunc\u001b[0m\u001b[1;33m(\u001b[0m\u001b[1;33m*\u001b[0m\u001b[1;33m(\u001b[0m\u001b[1;33m(\u001b[0m\u001b[0mx0\u001b[0m\u001b[1;33m[\u001b[0m\u001b[1;33m:\u001b[0m\u001b[0mnuminputs\u001b[0m\u001b[1;33m]\u001b[0m\u001b[1;33m,\u001b[0m\u001b[1;33m)\u001b[0m \u001b[1;33m+\u001b[0m \u001b[0margs\u001b[0m\u001b[1;33m)\u001b[0m\u001b[1;33m)\u001b[0m\u001b[1;33m)\u001b[0m\u001b[1;33m\u001b[0m\u001b[0m\n\u001b[0m\u001b[0;32m     27\u001b[0m     \u001b[1;32mif\u001b[0m \u001b[1;33m(\u001b[0m\u001b[0moutput_shape\u001b[0m \u001b[1;32mis\u001b[0m \u001b[1;32mnot\u001b[0m \u001b[1;32mNone\u001b[0m\u001b[1;33m)\u001b[0m \u001b[1;32mand\u001b[0m \u001b[1;33m(\u001b[0m\u001b[0mshape\u001b[0m\u001b[1;33m(\u001b[0m\u001b[0mres\u001b[0m\u001b[1;33m)\u001b[0m \u001b[1;33m!=\u001b[0m \u001b[0moutput_shape\u001b[0m\u001b[1;33m)\u001b[0m\u001b[1;33m:\u001b[0m\u001b[1;33m\u001b[0m\u001b[0m\n\u001b[0;32m     28\u001b[0m         \u001b[1;32mif\u001b[0m \u001b[1;33m(\u001b[0m\u001b[0moutput_shape\u001b[0m\u001b[1;33m[\u001b[0m\u001b[1;36m0\u001b[0m\u001b[1;33m]\u001b[0m \u001b[1;33m!=\u001b[0m \u001b[1;36m1\u001b[0m\u001b[1;33m)\u001b[0m\u001b[1;33m:\u001b[0m\u001b[1;33m\u001b[0m\u001b[0m\n",
      "\u001b[1;32m<ipython-input-1-f428b6b09e0a>\u001b[0m in \u001b[0;36mTwoSTEq\u001b[1;34m(x, s0, R)\u001b[0m\n\u001b[0;32m     31\u001b[0m     \u001b[0ms1\u001b[0m\u001b[1;33m=\u001b[0m\u001b[0mx\u001b[0m\u001b[1;33m[\u001b[0m\u001b[1;33m:\u001b[0m\u001b[1;36m3\u001b[0m\u001b[1;33m]\u001b[0m\u001b[1;33m\u001b[0m\u001b[0m\n\u001b[0;32m     32\u001b[0m     \u001b[0ms2\u001b[0m\u001b[1;33m=\u001b[0m\u001b[0mx\u001b[0m\u001b[1;33m[\u001b[0m\u001b[1;36m3\u001b[0m\u001b[1;33m:\u001b[0m\u001b[1;36m6\u001b[0m\u001b[1;33m]\u001b[0m\u001b[1;33m\u001b[0m\u001b[0m\n\u001b[1;32m---> 33\u001b[1;33m     \u001b[0malpha1\u001b[0m\u001b[1;33m=\u001b[0m\u001b[0mnp\u001b[0m\u001b[1;33m.\u001b[0m\u001b[0mappend\u001b[0m\u001b[1;33m(\u001b[0m\u001b[0mx\u001b[0m\u001b[1;33m[\u001b[0m\u001b[1;36m6\u001b[0m\u001b[1;33m]\u001b[0m\u001b[1;33m,\u001b[0m\u001b[0ms0\u001b[0m\u001b[1;33m[\u001b[0m\u001b[1;36m3\u001b[0m\u001b[1;33m]\u001b[0m\u001b[1;33m)\u001b[0m\u001b[1;33m\u001b[0m\u001b[0m\n\u001b[0m\u001b[0;32m     34\u001b[0m     \u001b[0malpha2\u001b[0m\u001b[1;33m=\u001b[0m\u001b[0mnp\u001b[0m\u001b[1;33m.\u001b[0m\u001b[0mappend\u001b[0m\u001b[1;33m(\u001b[0m\u001b[0mx\u001b[0m\u001b[1;33m[\u001b[0m\u001b[1;36m7\u001b[0m\u001b[1;33m]\u001b[0m\u001b[1;33m,\u001b[0m\u001b[0ms0\u001b[0m\u001b[1;33m[\u001b[0m\u001b[1;36m3\u001b[0m\u001b[1;33m]\u001b[0m\u001b[1;33m)\u001b[0m\u001b[1;33m\u001b[0m\u001b[0m\n\u001b[0;32m     35\u001b[0m     \u001b[0ms0\u001b[0m\u001b[1;33m=\u001b[0m\u001b[0ms0\u001b[0m\u001b[1;33m[\u001b[0m\u001b[1;33m:\u001b[0m\u001b[1;33m-\u001b[0m\u001b[1;36m1\u001b[0m\u001b[1;33m]\u001b[0m\u001b[1;33m\u001b[0m\u001b[0m\n",
      "\u001b[1;31mIndexError\u001b[0m: index 6 is out of bounds for axis 0 with size 4"
     ]
    }
   ],
   "source": [
    "fsolve(TwoSTEq,x0,args=np.array([rho,u,T,theta]),xtol=1e-9)"
   ]
  },
  {
   "cell_type": "code",
   "execution_count": null,
   "metadata": {
    "collapsed": true
   },
   "outputs": [],
   "source": []
  },
  {
   "cell_type": "code",
   "execution_count": null,
   "metadata": {
    "collapsed": true
   },
   "outputs": [],
   "source": [
    "def ThreeSTAn(state0,state1,theta=15*np.pi/180):\n",
    "    p = np.array([[]])\n",
    "    p = np.append(p,state0.M)\n",
    "    p = np.append(p,state1.M)\n",
    "    p = np.append(p,theta)\n",
    "    return optimize.fsolve(lambda x: fun3(x,p),5*np.array([0.01,0.01]))\n",
    "    \n",
    "def fun3(x,p):\n",
    "    f=np.array([])\n",
    "    f=np.append(f,p[0]*np.sin(x[0])-p[1]*np.sin(x[1]))\n",
    "    f=np.append(f,p[2]-theta(x[0],p[1])-theta(x[1],p[0]))\n",
    "    return f"
   ]
  }
 ],
 "metadata": {
  "kernelspec": {
   "display_name": "Python 3",
   "language": "python",
   "name": "python3"
  },
  "language_info": {
   "codemirror_mode": {
    "name": "ipython",
    "version": 3
   },
   "file_extension": ".py",
   "mimetype": "text/x-python",
   "name": "python",
   "nbconvert_exporter": "python",
   "pygments_lexer": "ipython3",
   "version": "3.6.3"
  }
 },
 "nbformat": 4,
 "nbformat_minor": 2
}
