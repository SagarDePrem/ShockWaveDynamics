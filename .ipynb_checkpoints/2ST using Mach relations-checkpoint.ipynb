{
 "cells": [
  {
   "cell_type": "markdown",
   "metadata": {},
   "source": [
    "# 2ST & 3ST using Mach relations"
   ]
  },
  {
   "cell_type": "code",
   "execution_count": 100,
   "metadata": {
    "collapsed": true
   },
   "outputs": [],
   "source": [
    "import numpy as np\n",
    "from scipy import optimize\n",
    "import matplotlib.pyplot as plt\n",
    "def phi(theta, M):\n",
    "    out = optimize.fsolve(lambda x: fun(x,M,theta),0.01)\n",
    "    out = np.append(out, optimize.fsolve(lambda x: fun(x,M,theta),np.pi/2))\n",
    "    return out\n",
    "def theta(x,M):\n",
    "    out = 2*(1/np.tan(x))*(M**2*(np.sin(x))**2-1)/(M**2*(1.4+np.cos(2*x))+2)\n",
    "    out = np.arctan(out)\n",
    "    return out\n",
    "def fun(x,M,theta):\n",
    "    f=np.tan(theta)-2*(1/np.tan(x))*(M**2*(np.sin(x))**2-1)/(M**2*(1.4+np.cos(2*x))+2)\n",
    "    return f\n",
    "def fun2(x,M):\n",
    "    theta=np.arctan(2*(1/np.tan(x))*(M**2*(np.sin(x))**2-1)/(M**2*(1.4+np.cos(2*x))+2))\n",
    "    return theta\n",
    "def thetaMax(M):\n",
    "    phi=optimize.fmin(lambda x: -fun2(x,M),0.1)\n",
    "    theta=fun2(phi,M)\n",
    "    return theta\n",
    "\n",
    "class state(object):\n",
    "  def __init__(self,p=100000,M=1.5,T=300,R=287,phi=0,gamma=1.4):\n",
    "    self.p=p\n",
    "    self.M=M\n",
    "    self.T=T\n",
    "    self.gamma=gamma\n",
    "    self.phi=phi\n",
    "    self.R=R\n",
    "    self.rho=self.p/(self.R*self.T)\n",
    "    self.u=self.M*np.sqrt(self.gamma*self.R*self.T)\n",
    "    \n",
    "def oblique(state0,theta1=10*np.pi/180,weak='True'):\n",
    "  #theta=theta\n",
    "  p=phi(theta1,state0.M)\n",
    "  tmax=thetaMax(state0.M)\n",
    "  print(\"Theta max :\",tmax*180/np.pi)\n",
    "  if tmax<theta1:\n",
    "        print(\"Shock detached\")\n",
    "  else:\n",
    "    if weak=='True':\n",
    "      ph=p[0]\n",
    "    else:\n",
    "      ph=p[1]\n",
    "    M1=np.sqrt((1+(state0.gamma-1)*0.5*(state0.M*np.sin(ph))**2)/(state0.gamma*(state0.M*np.sin(ph))**2-(state0.gamma-1)*0.5))/(np.sin(ph-theta1))\n",
    "    p2=state0.p*(1+2*state0.gamma*((state0.M*np.sin(ph))**2-1)/(1+state0.gamma))\n",
    "    T2=state0.T*(p2/state0.p)*(2+(state0.gamma-1)*(state0.M*np.sin(ph))**2)/((1+state0.gamma)*(state0.M*np.sin(ph))**2)\n",
    "    state1=state(M=M1,p=p2,T=T2)\n",
    "    state1.phi = ph\n",
    "    state1.theta= theta1\n",
    "    return state1\n",
    "\n",
    "def ST(state0,theta1):\n",
    "  state1=oblique(state0,theta1=theta1)\n",
    "  if theta1<thetaMax(state1.M):\n",
    "        print(\"This case is a Regular reflection\")\n",
    "        print(\"Solving using 2 shock theory . . .\")\n",
    "        state2=oblique(state1,theta1=theta1)\n",
    "        return state1,state2\n",
    "  else:\n",
    "    print(\"This case is a Mach reflection\")\n",
    "    print(\"Solving for the Standard solution using 3 shock theory...\")\n",
    "    phi = ThreeST(state0,state1,theta1)\n",
    "    phi2 = phi[0]\n",
    "    phi3 = phi[1]\n",
    "    theta2 = theta(phi2,state1.M)\n",
    "    theta3 = theta(phi3,state0.M)\n",
    "    state3 = oblique(state0,theta1=theta3)\n",
    "    state3.phi = phi3\n",
    "    state3.theta = theta3\n",
    "    state2 = oblique(state1,theta1=theta2)\n",
    "    state2.phi = phi2\n",
    "    state2.theta =theta2\n",
    "    return state1,state2,state3\n",
    "\n",
    "def ThreeST(state0,state1,theta=15*np.pi/180):\n",
    "    p = np.array([[]])\n",
    "    p = np.append(p,state0.M)  # M0\n",
    "    p = np.append(p,state1.M)  # M1\n",
    "    p = np.append(p,theta)  # theta\n",
    "    p = np.append(p,state1.p/state0.p) # p1/p0\n",
    "    return optimize.fsolve(lambda x: fun3(x,p),5*np.array([0.01,0.01]))\n",
    "    \n",
    "def fun3(x,p,gamma = 1.4):\n",
    "    \"\"\"\n",
    "    x[0] - phi2\n",
    "    x[1] - phi3\n",
    "    \"\"\"\n",
    "    f=np.array([])\n",
    "    f=np.append(f,(1+2*(p[1]**2*np.sin(x[0])**2-1)*gamma/(gamma+1))*p[3]-(1+2*(p[0]**2*np.sin(x[1])**2-1)*gamma/(gamma+1)))\n",
    "    f=np.append(f,p[2]-theta(x[0],p[1])-theta(x[1],p[0]))\n",
    "    return f\n",
    "    \n",
    "    \n",
    "    \n",
    "def plotPolar(state,positive='True',gamma=1.4):\n",
    "    tmax= thetaMax(state0.M)\n",
    "    pmax = pRatioMax(state.M)\n",
    "    p = np.linspace(1,pmax,100)\n",
    "    phi = np.arcsin(np.sqrt(1+(p-1)*(gamma+1)/gamma)/state.M)\n",
    "    the = theta(phi,state.M) \n",
    "    plt.plot(the,p)\n",
    "    plt.show()\n",
    "    \n",
    "def pRatio(x,M,gamma =1.4):\n",
    "    p = 1+2*gamma*((M*np.sin(x))**2-1)/(1+gamma)\n",
    "    return p\n",
    "\n",
    "def pRatioMax(M):\n",
    "    return optimize.fmin(lambda x: -pRatio(x,M,gamma=1.4),0.1)"
   ]
  },
  {
   "cell_type": "code",
   "execution_count": 101,
   "metadata": {},
   "outputs": [
    {
     "name": "stdout",
     "output_type": "stream",
     "text": [
      "Optimization terminated successfully.\n",
      "         Current function value: -0.520063\n",
      "         Iterations: 20\n",
      "         Function evaluations: 40\n",
      "Theta max : [29.79744053]\n",
      "Optimization terminated successfully.\n",
      "         Current function value: -0.274990\n",
      "         Iterations: 20\n",
      "         Function evaluations: 40\n",
      "This case is a Mach reflection\n",
      "Solving for the Standard solution using 3 shock theory...\n",
      "Optimization terminated successfully.\n",
      "         Current function value: -0.520063\n",
      "         Iterations: 20\n",
      "         Function evaluations: 40\n",
      "Theta max : [29.79744053]\n",
      "Optimization terminated successfully.\n",
      "         Current function value: -0.274990\n",
      "         Iterations: 20\n",
      "         Function evaluations: 40\n",
      "Theta max : [15.75574148]\n"
     ]
    }
   ],
   "source": [
    "s0=state(M=2.5,p=100000, T = 300)\n",
    "s1,s2,s3=ST(s0,theta1=20*np.pi/180)"
   ]
  },
  {
   "cell_type": "code",
   "execution_count": null,
   "metadata": {
    "collapsed": true
   },
   "outputs": [],
   "source": [
    "x= ThreeST(s0,s1,theta=30*np.pi/180)*180/np.pi"
   ]
  },
  {
   "cell_type": "code",
   "execution_count": null,
   "metadata": {},
   "outputs": [],
   "source": [
    "theta2 = theta(x[0],s1.M)\n",
    "theta2*180/np.pi"
   ]
  },
  {
   "cell_type": "code",
   "execution_count": null,
   "metadata": {},
   "outputs": [],
   "source": [
    "theta3 = theta(x[1],s0.M)\n",
    "theta3*180/np.pi"
   ]
  },
  {
   "cell_type": "code",
   "execution_count": null,
   "metadata": {},
   "outputs": [],
   "source": [
    "s1.M"
   ]
  },
  {
   "cell_type": "code",
   "execution_count": null,
   "metadata": {},
   "outputs": [],
   "source": [
    "s1.p"
   ]
  },
  {
   "cell_type": "code",
   "execution_count": null,
   "metadata": {},
   "outputs": [],
   "source": [
    "s1.T"
   ]
  },
  {
   "cell_type": "code",
   "execution_count": null,
   "metadata": {},
   "outputs": [],
   "source": [
    "s1.T"
   ]
  },
  {
   "cell_type": "code",
   "execution_count": null,
   "metadata": {},
   "outputs": [],
   "source": [
    "s1.phi*180/np.pi"
   ]
  },
  {
   "cell_type": "code",
   "execution_count": null,
   "metadata": {},
   "outputs": [],
   "source": [
    "s2.M"
   ]
  },
  {
   "cell_type": "code",
   "execution_count": null,
   "metadata": {},
   "outputs": [],
   "source": [
    "s2.p"
   ]
  },
  {
   "cell_type": "code",
   "execution_count": null,
   "metadata": {},
   "outputs": [],
   "source": [
    "s2.T "
   ]
  },
  {
   "cell_type": "code",
   "execution_count": null,
   "metadata": {},
   "outputs": [],
   "source": [
    "s2.theta*180/np.pi"
   ]
  },
  {
   "cell_type": "code",
   "execution_count": null,
   "metadata": {},
   "outputs": [],
   "source": [
    "s2.phi*180/np.pi"
   ]
  },
  {
   "cell_type": "code",
   "execution_count": null,
   "metadata": {},
   "outputs": [],
   "source": [
    "s3.M"
   ]
  },
  {
   "cell_type": "code",
   "execution_count": null,
   "metadata": {},
   "outputs": [],
   "source": [
    "s3.p"
   ]
  },
  {
   "cell_type": "code",
   "execution_count": null,
   "metadata": {},
   "outputs": [],
   "source": [
    "s3.T"
   ]
  },
  {
   "cell_type": "code",
   "execution_count": null,
   "metadata": {},
   "outputs": [],
   "source": [
    "s3.theta*180/np.pi"
   ]
  },
  {
   "cell_type": "code",
   "execution_count": null,
   "metadata": {},
   "outputs": [],
   "source": [
    "s3.phi*180/np.pi"
   ]
  },
  {
   "cell_type": "code",
   "execution_count": 103,
   "metadata": {
    "collapsed": true
   },
   "outputs": [],
   "source": [
    "def polar(state,both = 'True', positive='True',gamma=1.4):\n",
    "    tmax= thetaMax(state.M)\n",
    "    theta = np.linspace(0,tmax,100)\n",
    "    pWeak = np.asarray([pRatio(k,state.M) for k in theta])\n",
    "    pStrong = np.asarray([pRatio(k,state.M,weak = 'False') for k in theta])\n",
    "    theta = np.append(theta,np.flipud(theta))\n",
    "    p = np.append(pWeak,np.flipud(pStrong))\n",
    "    if both =='True':\n",
    "       p = np.append(p,np.flipud(p))\n",
    "       theta = np.append(theta,np.flipud(-theta))\n",
    "    return theta, p\n",
    "\n",
    "def plot(theta,p):\n",
    "    for k,j in zip(theta,p):\n",
    "        plt.plot(theta[k]*180/np.pi,p[j])\n",
    "    plt.grid()\n",
    "    plt.show()\n",
    "  \n",
    "   \n",
    "    \n",
    "def pRatio(x,M,gamma =1.4, weak = 'True'):\n",
    "    y = phi(x,M)\n",
    "    if weak =='True':\n",
    "        z = y[0]\n",
    "    else : \n",
    "        z = y[1]\n",
    "    p = 1+2*gamma*((M*np.sin(z))**2-1)/(1+gamma)\n",
    "    return p\n",
    "\n",
    "def pRatioMax(M):\n",
    "    return optimize.fmin(lambda x: -pRatio(x,M,gamma=1.4),0.1)"
   ]
  },
  {
   "cell_type": "code",
   "execution_count": 106,
   "metadata": {},
   "outputs": [
    {
     "ename": "SyntaxError",
     "evalue": "invalid syntax (<ipython-input-106-ad1a3c0d6a68>, line 8)",
     "output_type": "error",
     "traceback": [
      "\u001b[1;36m  File \u001b[1;32m\"<ipython-input-106-ad1a3c0d6a68>\"\u001b[1;36m, line \u001b[1;32m8\u001b[0m\n\u001b[1;33m    p    ={1:p1,2:p2/p1+*p.interp(20*np.pi/180,theta1[:100],p1[:100])}\u001b[0m\n\u001b[1;37m                        ^\u001b[0m\n\u001b[1;31mSyntaxError\u001b[0m\u001b[1;31m:\u001b[0m invalid syntax\n"
     ]
    }
   ],
   "source": [
    "#s0=state(M=2.5,p=100000, T = 300)\n",
    "#s1,s2,s3=ST(s0,theta1=20*np.pi/180)\n",
    "#s0 = state(M=3)\n",
    "#s1 =state(M=2)\n",
    "theta1, p1 = polar(s0)\n",
    "theta2, p2 = polar(s1)\n",
    "theta={1:theta1,2:theta2+20*np.pi/180} \n",
    "p    ={1:p1,2:p2/p1+*p.interp(20*np.pi/180,theta1[:100],p1[:100])}"
   ]
  },
  {
   "cell_type": "code",
   "execution_count": 105,
   "metadata": {},
   "outputs": [
    {
     "data": {
      "image/png": "[encoded data removed]",
      "text/plain": [
       "<matplotlib.figure.Figure at 0x2b5981a3a20>"
      ]
     },
     "metadata": {},
     "output_type": "display_data"
    }
   ],
   "source": [
    "plot(theta,p)"
   ]
  },
  {
   "cell_type": "code",
   "execution_count": 88,
   "metadata": {},
   "outputs": [
    {
     "data": {
      "text/plain": [
       "1.645798995148675"
      ]
     },
     "execution_count": 88,
     "metadata": {},
     "output_type": "execute_result"
    }
   ],
   "source": [
    "s1.M"
   ]
  },
  {
   "cell_type": "code",
   "execution_count": null,
   "metadata": {},
   "outputs": [],
   "source": [
    "thetaMax(1.5263486021821517)*180/np.pi"
   ]
  },
  {
   "cell_type": "code",
   "execution_count": null,
   "metadata": {
    "collapsed": true
   },
   "outputs": [],
   "source": []
  }
 ],
 "metadata": {
  "kernelspec": {
   "display_name": "Python 3",
   "language": "python",
   "name": "python3"
  },
  "language_info": {
   "codemirror_mode": {
    "name": "ipython",
    "version": 3
   },
   "file_extension": ".py",
   "mimetype": "text/x-python",
   "name": "python",
   "nbconvert_exporter": "python",
   "pygments_lexer": "ipython3",
   "version": "3.6.3"
  }
 },
 "nbformat": 4,
 "nbformat_minor": 2
}
